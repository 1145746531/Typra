{
  "cells": [
    {
      "cell_type": "markdown",
      "metadata": {
        "id": "view-in-github",
        "colab_type": "text"
      },
      "source": [
        "<a href=\"https://colab.research.google.com/github/1145746531/Typra/blob/main/KyleActivity_1.ipynb\" target=\"_parent\"><img src=\"https://colab.research.google.com/assets/colab-badge.svg\" alt=\"Open In Colab\"/></a>"
      ]
    },
    {
      "cell_type": "markdown",
      "id": "9b182e8a-e572-4064-8652-6b7110d51e1e",
      "metadata": {
        "id": "9b182e8a-e572-4064-8652-6b7110d51e1e"
      },
      "source": [
        "# Activity 1: Introduction to Python and NumPy\n",
        "## What is this?\n",
        "\n",
        "Welcome to MATH 4242!\n",
        "In these activities, we'll be exploring the material from class with hands-on computational activities.\n",
        "One goal is to teach the usage of three key tools in concert with each other:\n",
        "\n",
        "- **Python:** Python 3 is the programming language we'll be using for the semester.\n",
        "Python is very versatile, and can be used in a great variety of ways for many different purposes.\n",
        "Some of these purposes common today include data science and machine learning, in part motivating the decision to use it for MATH 4242.\n",
        "Python is highly *extensible* meaning that in addition to the functionality offered by \"base\" Python, there are a great many *libraries* made by Python developers around the world which add additional features.\n",
        "One of these libraries in particular will be highly relevant to us:\n",
        "- **NumPy:**  NumPy (**Num**erical **Py**thon) is a Python library which adds better support for numerical computations, particularly in linear algebra.\n",
        "NumPy provides the `ndarray` data type which will be our primary method of modeling matrices and vectors, as well as an extensive selection of tools for manipulating them.\n",
        "\n",
        "- **jupyter:** Jupyter is the platform you're using right now!\n",
        "Jupyter provides *notebooks,* which are the environment this is appearing in.\n",
        "A notebook is comprised of *cells* which may contain *markdown* or code.\n",
        "- **Markdown** is a way of encoding formatted text.\n",
        "This cell is an example of markdown!\n",
        "\n",
        "### How to use these notebooks\n",
        "These activities are intended to be truly **interactive**.\n",
        "Some example code will be provided, but whether in the context of an exercise or an example, you will be asked to fill many of the code cells. Especially in examples, you are invited and encouraged to discuss strategy and technique with your classmates and TA.\n",
        "Crucially, you are **strongly encouraged** never to run code without at least attempting to understand what it will do (or at least, not to move on to the next thing until you have understood the previous).\n",
        "Some very helpful tools are at your disposal to that end:\n",
        "\n",
        "- You can always add an additional code cell to a notebook to experiment!\n",
        "You are encouraged to do this frequently!\n",
        "- You can read the documentation for various function by using the `help` function. For instance, here is how we can get more information about the `abs` function:\n",
        "    ```Python\n",
        "    help(abs)\n",
        "    ```\n",
        "    This returns:\n",
        "    ```\n",
        "    Help on built-in function abs in module builtins:\n",
        "\n",
        "    abs(x, /)\n",
        "        Return the absolute value of the argument.\n",
        "    ```\n",
        "    You can also find documentation for all NumPy functions and objects on the [NumPy website](https://numpy.org/doc/2.1/) and all Python functions and objects on the [Python website](https://docs.python.org/3/).\n",
        "- Google and other search engines such as duckduckgo are your friend! When stuck, a good way to get going is to simply search \"NumPy [quick description of what you are stuck with].\"\n",
        "Often, the most helpful results are from the [Stack Exchange](https://stackexchange.com/) family of websites.\n",
        "\n",
        "- You are **strongly discouraged** from using generative AI to answer questions.\n",
        "While Google CoLab does have generative AI features built-in, we urge you to resist its pull.\n",
        "Although generative AI is fairly well-suited to the rather basic programming tasks you'll be asked to complete, **using it is only doing a disservice to yourself.**\n",
        "Indeed, thinking through how to implement these algorithms and translating your knowledge from class into computerized instructions is *the point* of these activities.\n",
        "Mathematics is not a spectator sport!\n",
        "You will make a much more lasting impression for yourself if you allow yourself the frustration and eventual joy of doing it yourself than you would by reading the code written by a generative AI-powered assistant.\n",
        "\n",
        "Each time you are asked to provide code, there will be a *test* for your code below the relevant code cell.\n",
        "Usually, there will be a comment in that cell with the desired output.\n",
        "If your output matches that comment, you know that your code at least works in that instance!\n",
        "Sometimes no desired output is provided. In that case, it is because there are theoretical methods to anticipate what the output should be from lecture or the textbook.\n",
        "If you don't know what the test should output, discuss with a classmate or your TA!\n",
        "Whether a test is provided or not, you are very much encouraged to write your own!\n",
        "\n",
        "To try out getting help, in the code cell below, use the `help` function to bring up help on the Python built-in `max` function.\n",
        "\n"
      ]
    },
    {
      "cell_type": "code",
      "execution_count": null,
      "id": "19c477f0-0ece-4e21-a720-2bd8afa159d6",
      "metadata": {
        "id": "19c477f0-0ece-4e21-a720-2bd8afa159d6"
      },
      "outputs": [],
      "source": [
        "help(max)"
      ]
    },
    {
      "cell_type": "markdown",
      "id": "77b84654-664a-49f9-aa52-eacb075e5196",
      "metadata": {
        "id": "77b84654-664a-49f9-aa52-eacb075e5196"
      },
      "source": [
        "##  Python: variables, numbers, objects, types, strings, lists\n",
        "This is intended as a very quick introduction.\n",
        "You are encouraged to seek out more resources to gain more familiarity and comfort with the language.\n",
        "For example, [this](https://www.w3schools.com/python/python_intro.asp) is a free tutorial which goes in significantly more depth.\n",
        "\n",
        "### Variables, Numbers, and Booleans\n",
        "\n",
        "One of the most basic features of the python language are *variables*.\n",
        "These are names which in general reference *data types*.\n",
        "We'll see examples of more complex types later, but let's start with some simple ones, such as numerical types.\n",
        "The following example makes use of the `print` function, which as you'll see provides information about its argument to output.\n",
        "**To evaluate a jupyter cell, hit shift-enter after selecting that cell.**"
      ]
    },
    {
      "cell_type": "code",
      "execution_count": null,
      "id": "65e316bc-7da1-4d76-b7f3-d311642f774f",
      "metadata": {
        "id": "65e316bc-7da1-4d76-b7f3-d311642f774f"
      },
      "outputs": [],
      "source": [
        "a=9\n",
        "b=3\n",
        "print(a+b) # addition\n",
        "print(a*b) # multiplication\n",
        "print(a-b) # subtraction\n"
      ]
    },
    {
      "cell_type": "markdown",
      "id": "27d48fa4-407b-478b-ae79-2b6032d12333",
      "metadata": {
        "id": "27d48fa4-407b-478b-ae79-2b6032d12333"
      },
      "source": [
        "Much of Python's syntax is quite intuitive, but there are a few quirks to get used to."
      ]
    },
    {
      "cell_type": "code",
      "execution_count": null,
      "id": "37f2c224-8e00-4864-ab3e-8c5b72f92be7",
      "metadata": {
        "id": "37f2c224-8e00-4864-ab3e-8c5b72f92be7"
      },
      "outputs": [],
      "source": [
        "print(a^b) # surprise! was that what you expected?\n",
        "print(a**b) # what do these last two do?"
      ]
    },
    {
      "cell_type": "markdown",
      "id": "81507f63-1050-4339-9139-fb9c37d4db5b",
      "metadata": {
        "id": "81507f63-1050-4339-9139-fb9c37d4db5b"
      },
      "source": [
        "As you've now seen, exponentiation was handled differently than you may have expected.\n",
        "`^` is reserved for *bitwise xor*, while **exponentiation is represented with `**`.**\n",
        "<details>\n",
        "    <summary>\n",
        "        <b>\n",
        "            More on ^\n",
        "        </b>\n",
        "        (Click to expand)\n",
        "    </summary>\n",
        "\n",
        "We won't be using `^` during the course of these activities (at least unless you happen to find creative ways of doing so). We can, however, briefly explain what it does. On bits (i.e. 1 or 0), `a^b` returns `1` if exactly one of `a` and `b` is equal to `1` and 0 if both are 0 or both are 1.\n",
        "On strings of bits (e.g. `1001` or `0011`), bitwise xor acts by applying to each bit one-by-one.\n",
        "So in this example, we would see that `(1001)^(0011)` is `1010`.\n",
        "\n",
        "Of course, as you may know, computers represent numbers as binary strings. $9=1*2^3+0*2^2+0*2^1+2^0$, so we would represent 9 as `1001`, and $3=0*2^3+0*2^2+1*2^1+2^0$, so we would represent 3 as `0011`. Then, the result of `9^3` above is `1010`, which we read as $1*2^3+0*2^2+1*2^1+0*2^0=10$. Indeed, that's what we got when we tried it!\n",
        "</details>\n",
        "One other subtlety comes about in division.\n",
        "Try out the following example."
      ]
    },
    {
      "cell_type": "code",
      "execution_count": null,
      "id": "f64be798-9e37-491b-902f-d53eba241ca8",
      "metadata": {
        "id": "f64be798-9e37-491b-902f-d53eba241ca8"
      },
      "outputs": [],
      "source": [
        "print(a//b) # what is this?\n",
        "print(a/b)  # how about this?"
      ]
    },
    {
      "cell_type": "markdown",
      "id": "c597dfa9-acc0-4fbc-abe0-0f7fd851cf33",
      "metadata": {
        "id": "c597dfa9-acc0-4fbc-abe0-0f7fd851cf33"
      },
      "source": [
        "Those were the same, but now **you try!** With $a=8$ and $b=3$, what do you get for `a/b` and `a//b`?"
      ]
    },
    {
      "cell_type": "code",
      "execution_count": null,
      "id": "f4ec350f-fcd2-4466-aed4-7ba1f6a4f875",
      "metadata": {
        "id": "f4ec350f-fcd2-4466-aed4-7ba1f6a4f875",
        "outputId": "d336e2d7-4cb7-409d-c6eb-ba6905827caf",
        "colab": {
          "base_uri": "https://localhost:8080/"
        }
      },
      "outputs": [
        {
          "output_type": "stream",
          "name": "stdout",
          "text": [
            "2.6666666666666665\n",
            "2\n"
          ]
        }
      ],
      "source": [
        "a = 8\n",
        "b = 3\n",
        "print( a / b)\n",
        "print( a // b)"
      ]
    },
    {
      "cell_type": "markdown",
      "id": "302e6e25-36cf-4d35-b765-ee185774ad05",
      "metadata": {
        "id": "302e6e25-36cf-4d35-b765-ee185774ad05"
      },
      "source": [
        "Every object in Python has a *type*.\n",
        "You can check types using the `type` function.\n",
        "For example, try checking the type of `a` and `a/b` below."
      ]
    },
    {
      "cell_type": "code",
      "execution_count": null,
      "id": "96263e03-a486-4b8d-8a1d-32c38187c3dd",
      "metadata": {
        "id": "96263e03-a486-4b8d-8a1d-32c38187c3dd"
      },
      "outputs": [],
      "source": [
        "type(a)"
      ]
    },
    {
      "cell_type": "code",
      "execution_count": null,
      "id": "7c982972-ccf8-45f5-a942-9a9c88b241d9",
      "metadata": {
        "id": "7c982972-ccf8-45f5-a942-9a9c88b241d9"
      },
      "outputs": [],
      "source": [
        "type(a/b)"
      ]
    },
    {
      "cell_type": "markdown",
      "id": "025981dc-81cf-4705-8004-ab92de9a195b",
      "metadata": {
        "id": "025981dc-81cf-4705-8004-ab92de9a195b"
      },
      "source": [
        "Note they are different!\n",
        "The `int` type is used to represent whole numbers, while the `float` type is used to represent decimals.\n",
        "In our applications, we will be primarily working with `float`s.\n",
        "For the most part, we'll be able to sidestep these subtleties, but there will be cases in which some care will be necessary."
      ]
    },
    {
      "cell_type": "markdown",
      "id": "8ca30a3f-7441-4e1d-9fe7-b5b6f1305576",
      "metadata": {
        "id": "8ca30a3f-7441-4e1d-9fe7-b5b6f1305576"
      },
      "source": [
        "### Booleans and Comparisons\n",
        "Another highly fundamental type is that of the boolean, implemented in Python as the `bool` type.\n",
        "There are two tokens belonging to the type: `True` and `False`.\n",
        "There are some very common functions of booleans which are built-in to Python: `and` and `or`, and the operator `not`."
      ]
    },
    {
      "cell_type": "code",
      "execution_count": null,
      "id": "ed706b1a-787b-4353-a2c7-0ab9650e5eb0",
      "metadata": {
        "id": "ed706b1a-787b-4353-a2c7-0ab9650e5eb0"
      },
      "outputs": [],
      "source": [
        "A=False\n",
        "B=True\n",
        "print(A and B)\n",
        "print(A or B)\n",
        "print(not B)\n",
        "print((not A) and B)"
      ]
    },
    {
      "cell_type": "markdown",
      "id": "c1317f21-6829-4079-8ce0-530694e763e1",
      "metadata": {
        "id": "c1317f21-6829-4079-8ce0-530694e763e1"
      },
      "source": [
        "One place where `bool`s very frequently come up is comparison:\n",
        "- `==` checks for equality\n",
        "- `>` and `<` check for greater and less than respectively\n",
        "- `>=` and `<=` check for greater than or equal to and less than or equal to respectively."
      ]
    },
    {
      "cell_type": "code",
      "execution_count": null,
      "id": "c26886c1-2092-42e6-a2ac-06ff0e3c1dd4",
      "metadata": {
        "id": "c26886c1-2092-42e6-a2ac-06ff0e3c1dd4"
      },
      "outputs": [],
      "source": [
        "#what do you expect this to print?\n",
        "a=5\n",
        "b=6\n",
        "c=5/6\n",
        "print(a>b) # False\n",
        "print(a<b)  # True\n",
        "print(a/b > c)  #False\n",
        "print(a/b >=c)  #True\n",
        "print(a/b==c) #True\n"
      ]
    },
    {
      "cell_type": "markdown",
      "id": "6830b381-ca8e-4139-a15f-b8f2f18a6c93",
      "metadata": {
        "id": "6830b381-ca8e-4139-a15f-b8f2f18a6c93"
      },
      "source": [
        "### Strings and Lists\n",
        "\n",
        "Another object which will come up for us are `string`s.\n",
        "These are a mode of storing text.\n",
        "Take a look at the example below.\n"
      ]
    },
    {
      "cell_type": "code",
      "execution_count": null,
      "id": "2b14c20b-f572-41b2-839d-41e3ae460ee4",
      "metadata": {
        "id": "2b14c20b-f572-41b2-839d-41e3ae460ee4"
      },
      "outputs": [],
      "source": [
        "a= \"Hello\"\n",
        "b= \" \"\n",
        "c= \"World\"\n",
        "d= \"!\"\n",
        "print(a+b+c+d)\n",
        "print(a*15)"
      ]
    },
    {
      "cell_type": "markdown",
      "id": "4d5afeaa-f247-4866-9819-2179166d0feb",
      "metadata": {
        "id": "4d5afeaa-f247-4866-9819-2179166d0feb"
      },
      "source": [
        "**You try!** Try to come up with a way to print \"Hello!!!\" 20 times, with a space in between each instance."
      ]
    },
    {
      "cell_type": "code",
      "execution_count": null,
      "id": "11b8b662-3d19-4135-b317-9291c359d8fa",
      "metadata": {
        "id": "11b8b662-3d19-4135-b317-9291c359d8fa",
        "outputId": "b99ea9c1-9a1d-4ddd-f5c1-12e8505af037",
        "colab": {
          "base_uri": "https://localhost:8080/"
        }
      },
      "outputs": [
        {
          "output_type": "stream",
          "name": "stdout",
          "text": [
            "Hello!!!Hello!!!Hello!!!Hello!!!Hello!!!Hello!!!Hello!!!Hello!!!Hello!!!Hello!!!Hello!!!Hello!!!Hello!!!Hello!!!Hello!!!Hello!!!Hello!!!Hello!!!Hello!!!Hello!!!\n"
          ]
        }
      ],
      "source": [
        "print(\"Hello!!!\" * 20)"
      ]
    },
    {
      "cell_type": "markdown",
      "id": "57d9dc3f-6477-4b28-97d1-1d72e5705b17",
      "metadata": {
        "id": "57d9dc3f-6477-4b28-97d1-1d72e5705b17"
      },
      "source": [
        "Strings behave similarly to another important data type, that of the `list`.\n",
        "To form a `list`, simply put a sequence of values, separated by commas, into square brackets `[]`.\n",
        "For example, here is a list of some strings."
      ]
    },
    {
      "cell_type": "code",
      "execution_count": null,
      "id": "3279cdf2-464a-4fa5-af94-ac61b419c49a",
      "metadata": {
        "id": "3279cdf2-464a-4fa5-af94-ac61b419c49a"
      },
      "outputs": [],
      "source": [
        "A=[a+b+c+d,\n",
        "   a+2*b+3*c+4*d,\n",
        "   d+2*c+3*b+4*a,\n",
        "   a+d+c+d+a+d,\n",
        "   5*(a+d+b),\n",
        "   3*(c+d+b)]\n",
        "A"
      ]
    },
    {
      "cell_type": "markdown",
      "id": "0283b2a2-f17d-49b7-ade7-e70d6410fe03",
      "metadata": {
        "id": "0283b2a2-f17d-49b7-ade7-e70d6410fe03"
      },
      "source": [
        "`len` gives the length of a list."
      ]
    },
    {
      "cell_type": "code",
      "execution_count": null,
      "id": "86408013-9582-44a0-96a6-58c21c1b1890",
      "metadata": {
        "id": "86408013-9582-44a0-96a6-58c21c1b1890"
      },
      "outputs": [],
      "source": [
        "len(A)"
      ]
    },
    {
      "cell_type": "markdown",
      "id": "c2301ada-61bf-4837-93c4-d900d15a036a",
      "metadata": {
        "id": "c2301ada-61bf-4837-93c4-d900d15a036a"
      },
      "source": [
        "Lists are *indexed* with square brackets as well.\n",
        "This is, in essence, a means of calling elements of a list or a range within.\n",
        "Here's an example using the previous list:"
      ]
    },
    {
      "cell_type": "code",
      "execution_count": null,
      "id": "d1acd9be-48fb-486e-b622-d6a178fbd2b9",
      "metadata": {
        "id": "d1acd9be-48fb-486e-b622-d6a178fbd2b9"
      },
      "outputs": [],
      "source": [
        "print(A[0])     #lists are always indexed starting at 0\n",
        "print(A[5])     #our list has six elements, so 5 is the last one (since we started at 0)\n",
        "print(A[-1])    #negative indexing starts at the end with -1 (so this is the same as A[5])\n",
        "print(A[1:3])   #gives list items 1 and 2 (in general, it includes the part before the colon, but not the part after)\n",
        "print(A[2:])    #start at item 2 (inclusive) until the end\n",
        "print(A[:3])    #start at the beginning and end at item 3 (exclusive)"
      ]
    },
    {
      "cell_type": "markdown",
      "id": "a016c694-4ad8-400c-9fee-da79046e0f0e",
      "metadata": {
        "id": "a016c694-4ad8-400c-9fee-da79046e0f0e"
      },
      "source": [
        "**You try!** print the list that starts at the beginning and ends after item 3 (`'Hello!World!Hello!'`). Then, print the list that starts at item 4 and goes until the end."
      ]
    },
    {
      "cell_type": "code",
      "execution_count": 1,
      "id": "a247c17f-5345-458e-ac6f-84b3daae6e9c",
      "metadata": {
        "id": "a247c17f-5345-458e-ac6f-84b3daae6e9c",
        "outputId": "37f0508e-81d8-424f-b8ae-5ef93bdc89bd",
        "colab": {
          "base_uri": "https://localhost:8080/"
        }
      },
      "outputs": [
        {
          "output_type": "stream",
          "name": "stdout",
          "text": [
            "['Hello World!', 'Hello  WorldWorldWorld!!!!', '!WorldWorld   HelloHelloHelloHello', 'Hello!World!Hello!']\n"
          ]
        }
      ],
      "source": [
        "a= \"Hello\"\n",
        "b= \" \"\n",
        "c= \"World\"\n",
        "d= \"!\"\n",
        "\n",
        "A=[a+b+c+d,\n",
        "   a+2*b+3*c+4*d,\n",
        "   d+2*c+3*b+4*a,\n",
        "   a+d+c+d+a+d,\n",
        "   5*(a+d+b),\n",
        "   3*(c+d+b)]\n",
        "\n",
        "print(A[0:4])\n"
      ]
    },
    {
      "cell_type": "markdown",
      "id": "8dfb7385-0f48-421c-afbc-f5890c10b717",
      "metadata": {
        "id": "8dfb7385-0f48-421c-afbc-f5890c10b717"
      },
      "source": [
        "The same indexing works on strings:"
      ]
    },
    {
      "cell_type": "code",
      "execution_count": null,
      "id": "115da6ca-38cb-4b0f-9001-ed17afae2229",
      "metadata": {
        "id": "115da6ca-38cb-4b0f-9001-ed17afae2229"
      },
      "outputs": [],
      "source": [
        "f=5*(a+b+c+d)\n",
        "print(f[6:25])\n",
        "print(f[6:25:2]) #The third digit tells us to increment by that many as we go from item to item\n",
        "print(f[24:5:-1]) #it accepts negative arguments\n"
      ]
    },
    {
      "cell_type": "markdown",
      "id": "3534298f-57be-424b-9a43-ae04b42be5e1",
      "metadata": {
        "id": "3534298f-57be-424b-9a43-ae04b42be5e1"
      },
      "source": [
        "Now **you try!** How would you print starting six characters from the end and ending on the sixth character, incrementing backwards and skipping every other letter?"
      ]
    },
    {
      "cell_type": "code",
      "execution_count": 2,
      "id": "1a08d870-0bd9-407e-a0c1-8b60c5865c6b",
      "metadata": {
        "id": "1a08d870-0bd9-407e-a0c1-8b60c5865c6b",
        "outputId": "b39f6f44-3784-420d-cf3f-34e5bfa7f073",
        "colab": {
          "base_uri": "https://localhost:8080/"
        }
      },
      "outputs": [
        {
          "output_type": "stream",
          "name": "stdout",
          "text": [
            "WolHdrWolHdrWolHdrWolHdrW\n"
          ]
        }
      ],
      "source": [
        "#YOUR CODE HERE\n",
        "#desired output:\n",
        "#WolHdrWolHdrWolHdrWolHdrW\n",
        "a= \"Hello\"\n",
        "b= \" \"\n",
        "c= \"World\"\n",
        "d= \"!\"\n",
        "\n",
        "f=5*(a+b+c+d)\n",
        "print(f[-6:4:-2])"
      ]
    },
    {
      "cell_type": "markdown",
      "id": "5fc4fccd-404b-461e-8895-28f795a74512",
      "metadata": {
        "id": "5fc4fccd-404b-461e-8895-28f795a74512"
      },
      "source": [
        "We'll be revisiting lists in greater detail soon once we start working with NumPy!\n",
        "## Control Sequences: Conditionals, Loops, Iteration, and Functions\n",
        "### If and Else"
      ]
    },
    {
      "cell_type": "markdown",
      "id": "cb8361e7-6418-4223-998e-a2694d62e3cd",
      "metadata": {
        "id": "cb8361e7-6418-4223-998e-a2694d62e3cd"
      },
      "source": [
        "Control sequences let us structure our code into blocks and provide a logical flow to our programs.\n",
        "Perhaps the most basic of these is the conditionals `if` and `else`.\n",
        "The basic syntax for these is:\n",
        "```python\n",
        "if x:\n",
        "    y\n",
        "else:\n",
        "    z\n",
        "```\n",
        "Here, `x` is a `bool` and `y` and `z` are ensuing code (which can be multi-line).\n",
        "Note the spacing.\n",
        "**Any control block starts with a line ending with a colon.\n",
        "Any subsequent code within the control block then must have a tab at the beginning of the line.**\n",
        "As an example, play around with the following by changing the value of `num` in the first line."
      ]
    },
    {
      "cell_type": "code",
      "execution_count": null,
      "id": "c1742e55-6d9d-4b5e-a601-f6fa74352ef6",
      "metadata": {
        "id": "c1742e55-6d9d-4b5e-a601-f6fa74352ef6"
      },
      "outputs": [],
      "source": [
        "num = 3\n",
        "if num % 2 ==0:       #the % symbol is the remainder-- i.e. if num has a remainder of 0 after being divided by 2\n",
        "    print(\"even\")\n",
        "else:\n",
        "    print(\"odd\")"
      ]
    },
    {
      "cell_type": "markdown",
      "id": "e0b3b39c-a311-4bae-a213-f260d05288a2",
      "metadata": {
        "id": "e0b3b39c-a311-4bae-a213-f260d05288a2"
      },
      "source": [
        "** You try!** Rework the example below to write code which prints `num/2` if `num` is even, `(num-1)/2` if `num` is odd and negative, and `(num+1)/2` if `num` is odd and positive.\n",
        "(You can do this by nesting `if` and `else` statements, or using the `elif` control sequence)."
      ]
    },
    {
      "cell_type": "code",
      "execution_count": null,
      "id": "dfd93e91-c87c-4a8b-9d66-1dae91271d1d",
      "metadata": {
        "id": "dfd93e91-c87c-4a8b-9d66-1dae91271d1d",
        "outputId": "9905218f-4de1-4a47-a78f-5ec63faefd35",
        "colab": {
          "base_uri": "https://localhost:8080/"
        }
      },
      "outputs": [
        {
          "output_type": "stream",
          "name": "stdout",
          "text": [
            "please insert a integer3\n",
            "2.0\n"
          ]
        }
      ],
      "source": [
        "num = int(input(\"please insert a integer\"))\n",
        "if num >= 0:\n",
        "    if num % 2 == 0:\n",
        "        num = num / 2\n",
        "    else:\n",
        "        num = (num + 1) / 2\n",
        "else:\n",
        "    if num % 2 == 0:\n",
        "        num = num / 2\n",
        "    else:\n",
        "        num = (num -1) / 2\n",
        "print(num)"
      ]
    },
    {
      "cell_type": "markdown",
      "id": "4f5dde61-ecda-4a65-a959-bad28986ce5f",
      "metadata": {
        "id": "4f5dde61-ecda-4a65-a959-bad28986ce5f"
      },
      "source": [
        "### Loops\n",
        "Often, we'll want to automate repetitive tasks.\n",
        "Python supplies *loops* for this purpose.\n",
        "For instance, suppose I have a recursive function given by the formula $a_n=(1-2a_{n-1})/3$ and wanted to know what $a_10$ would be if I started with $a_0=1$.\n",
        "The following loop does just that:"
      ]
    },
    {
      "cell_type": "code",
      "execution_count": null,
      "id": "9639151b-e6ea-4487-8bf4-f4df22fccfce",
      "metadata": {
        "id": "9639151b-e6ea-4487-8bf4-f4df22fccfce"
      },
      "outputs": [],
      "source": [
        "a=1\n",
        "for n in range(10):   #This says I am letting n=0, performing the code below it, then letting n=1, then n=2, etc. through n=9.\n",
        "    #It is exclusive of the argument (so range(10) is 0,1,2,...,9, *not* including 10).\n",
        "    #Notice the colon at the end! You will get an error without one!\n",
        "    #each new line in the loop must start with a tab\n",
        "    print(\"a_\",n,\"=\",a) #check in on current value--think through why the indexing makes sense!\n",
        "    a=(1-2*a)/3         #find a_n from a_{n-1}\n",
        "a   #this is outside of the loop because it doesn't start with a tab\n"
      ]
    },
    {
      "cell_type": "markdown",
      "id": "fed2efb4-0fb2-4e7a-a9be-876dc3bf0507",
      "metadata": {
        "id": "fed2efb4-0fb2-4e7a-a9be-876dc3bf0507"
      },
      "source": [
        "Note that in the line `a=(1-2*a)/3`, we referenced the value of the variable we were changing!\n",
        "\n",
        "#### Exercise 1: Looping to Compute Recursive Sequences\n",
        "**Exercise: (a):** Alter the above to compute the 15th term of the recursive sequence $b_n=(1+2b_{n-1})/4$ starting with $b_0=2$.\n",
        "To check that your code is working as intended, here's the first few terms:\n",
        "```\n",
        "b_ 0 = 2\n",
        "b_ 1 = 1.25\n",
        "b_ 2 = 0.875\n",
        "b_ 3 = 0.6875\n",
        "```\n"
      ]
    },
    {
      "cell_type": "code",
      "execution_count": null,
      "id": "8fcced2e-04f4-4ef8-a2ca-383127a132a2",
      "metadata": {
        "id": "8fcced2e-04f4-4ef8-a2ca-383127a132a2",
        "outputId": "7d9229b9-e885-443f-b07f-f0efda4dd5e4",
        "colab": {
          "base_uri": "https://localhost:8080/"
        }
      },
      "outputs": [
        {
          "output_type": "stream",
          "name": "stdout",
          "text": [
            "b_1 = 1.25\n",
            "b_2 = 0.875\n",
            "b_3 = 0.6875\n",
            "b_4 = 0.59375\n",
            "b_5 = 0.546875\n",
            "b_6 = 0.5234375\n",
            "b_7 = 0.51171875\n",
            "b_8 = 0.505859375\n",
            "b_9 = 0.5029296875\n",
            "b_10 = 0.50146484375\n",
            "b_11 = 0.500732421875\n",
            "b_12 = 0.5003662109375\n",
            "b_13 = 0.50018310546875\n",
            "b_14 = 0.500091552734375\n",
            "b_15 = 0.5000457763671875\n"
          ]
        }
      ],
      "source": [
        "b = 2 # initial value\n",
        "for n in range(1,16):\n",
        "    b = (1 + 2 * b) / 4\n",
        "    print(f\"b_{n} = {b}\")"
      ]
    },
    {
      "cell_type": "markdown",
      "id": "ced58271-a805-47eb-b798-86fee3efc813",
      "metadata": {
        "id": "ced58271-a805-47eb-b798-86fee3efc813"
      },
      "source": [
        "___"
      ]
    },
    {
      "cell_type": "markdown",
      "id": "3535d6e9-7076-4c9d-b427-3169a0b7d14c",
      "metadata": {
        "id": "3535d6e9-7076-4c9d-b427-3169a0b7d14c"
      },
      "source": [
        "**(b)** Consider the *two-variable* recursion given by $c_n=\\frac{(c_{n-1}+d_{n-1})}{2c_{n-1}d_{n-1}}$ , $d_n=\\frac{c_{n-1}^2}{c_{n-1}+d_{n-1}}$. Find $c_{20}$ and $d_{20}$ when $c_0=d_0=1$. Like before, print out $c_n$ and $d_n$ for each $n$.\n",
        "\n",
        "To check your sequence is working, here are the first few terms:\n",
        "```\n",
        "c_ 0 = 1 ; d_ 0 = 1\n",
        "c_ 1 = 1.0 ; d_ 1 = 0.5\n",
        "c_ 2 = 1.5 ; d_ 2 = 0.6666666666666666\n",
        "c_ 3 = 1.0833333333333333 ; d_ 3 = 1.0384615384615385\n",
        "```\n",
        "\n",
        "<details>\n",
        "    <summary> <b> Hint:</b> (click here to open)</summary>\n",
        "\n",
        "- if you copy the method of the above exactly, you may find yourself overwriting variables you need to store. Introducing a new variable (say, \"`a_last`\") is one way out of that pickle.    \n",
        "</details>"
      ]
    },
    {
      "cell_type": "code",
      "execution_count": null,
      "id": "a872dc92-4249-477b-b889-b559517a7be4",
      "metadata": {
        "id": "a872dc92-4249-477b-b889-b559517a7be4",
        "outputId": "6f9cf847-8bdb-4799-dbca-facd55e1ab18",
        "colab": {
          "base_uri": "https://localhost:8080/"
        }
      },
      "outputs": [
        {
          "output_type": "stream",
          "name": "stdout",
          "text": [
            "c_1 = 2.0 : d_1 = d_0.5\n",
            "c_2 = 2.0 : d_2 = d_0.5\n",
            "c_3 = 2.0 : d_3 = d_0.5\n",
            "c_4 = 2.0 : d_4 = d_0.5\n",
            "c_5 = 2.0 : d_5 = d_0.5\n",
            "c_6 = 2.0 : d_6 = d_0.5\n",
            "c_7 = 2.0 : d_7 = d_0.5\n",
            "c_8 = 2.0 : d_8 = d_0.5\n",
            "c_9 = 2.0 : d_9 = d_0.5\n",
            "c_10 = 2.0 : d_10 = d_0.5\n",
            "c_11 = 2.0 : d_11 = d_0.5\n",
            "c_12 = 2.0 : d_12 = d_0.5\n",
            "c_13 = 2.0 : d_13 = d_0.5\n",
            "c_14 = 2.0 : d_14 = d_0.5\n",
            "c_15 = 2.0 : d_15 = d_0.5\n",
            "c_16 = 2.0 : d_16 = d_0.5\n",
            "c_17 = 2.0 : d_17 = d_0.5\n",
            "c_18 = 2.0 : d_18 = d_0.5\n",
            "c_19 = 2.0 : d_19 = d_0.5\n",
            "c_20 = 2.0 : d_20 = d_0.5\n"
          ]
        }
      ],
      "source": [
        "c = 1  # initial value for c_0 and d_0\n",
        "d = 1\n",
        "for n in range(1, 21):\n",
        "    c_next_val = (c + d) / (2 * c - d)  # create c_{n+1} and d_{n+1}\n",
        "    d_new_val = (c ** 2) / (c + d)\n",
        "    print(f\"c_{n} = {c_next_val} : d_{n} = d_{d_new_val}\")"
      ]
    },
    {
      "cell_type": "markdown",
      "id": "1ad5ac84-b24d-4579-a9b4-bb90b7287df5",
      "metadata": {
        "id": "1ad5ac84-b24d-4579-a9b4-bb90b7287df5"
      },
      "source": [
        "___"
      ]
    },
    {
      "cell_type": "markdown",
      "id": "b9fe6992-564a-4026-a6d0-43489d9ccc7f",
      "metadata": {
        "id": "b9fe6992-564a-4026-a6d0-43489d9ccc7f"
      },
      "source": [
        "### Functions\n",
        "\n",
        "Sometimes, we'll want to perform the same process to a variety of different inputs.\n",
        "As a first example, one classic example is the factorial $n!$.\n",
        "Below is a somewhat nonstandard implementation of the factorial--in a moment, we'll explain why we say this is nonstandard."
      ]
    },
    {
      "cell_type": "code",
      "execution_count": null,
      "id": "d3f5d25f-a3c2-4a1a-aeba-2375b19bf931",
      "metadata": {
        "id": "d3f5d25f-a3c2-4a1a-aeba-2375b19bf931"
      },
      "outputs": [],
      "source": [
        "def my_factorial(n):\n",
        "    #\n",
        "    #once again, the colon is necessary and everything within the function will start with a tab\n",
        "    prod=1                  #initialize\n",
        "    for k in range(1,n+1):  #This syntax means start at 1 and stop at n+1, excluding n+1 (so k=1,2,...,n)\n",
        "        print(k)            #strictly unnecessary, for illustrative purposes\n",
        "        prod=prod*(k)\n",
        "    return prod"
      ]
    },
    {
      "cell_type": "code",
      "execution_count": null,
      "id": "c642dfab-c09b-43e2-8a2b-1da0b17a935e",
      "metadata": {
        "id": "c642dfab-c09b-43e2-8a2b-1da0b17a935e"
      },
      "outputs": [],
      "source": [
        "my_factorial(0) #check this works correctly for n=0"
      ]
    },
    {
      "cell_type": "code",
      "execution_count": null,
      "id": "30f60d61-cc18-4811-bb92-f39315fb59a3",
      "metadata": {
        "id": "30f60d61-cc18-4811-bb92-f39315fb59a3"
      },
      "outputs": [],
      "source": [
        "my_factorial(5)"
      ]
    },
    {
      "cell_type": "markdown",
      "id": "2068c041-2188-4b64-b2d3-86688bc5d927",
      "metadata": {
        "id": "2068c041-2188-4b64-b2d3-86688bc5d927"
      },
      "source": [
        "**Your turn** find 8! with `my_factorial`."
      ]
    },
    {
      "cell_type": "code",
      "execution_count": null,
      "id": "40f47b6f-37e9-4f83-aa8e-0a85140f8bf1",
      "metadata": {
        "id": "40f47b6f-37e9-4f83-aa8e-0a85140f8bf1",
        "outputId": "4ac76e59-7bfa-4672-b895-fd45e3cc6cd7",
        "colab": {
          "base_uri": "https://localhost:8080/"
        }
      },
      "outputs": [
        {
          "output_type": "stream",
          "name": "stdout",
          "text": [
            "1\n",
            "2\n",
            "3\n",
            "4\n",
            "5\n",
            "6\n",
            "7\n",
            "8\n",
            "40320\n"
          ]
        }
      ],
      "source": [
        "def my_factorial(n):\n",
        "    #\n",
        "    #once again, the colon is necessary and everything within the function will start with a tab\n",
        "    prod=1                  #initialize\n",
        "    for k in range(1,n+1):  #This syntax means start at 1 and stop at n+1, excluding n+1 (so k=1,2,...,n)\n",
        "        print(k)            #strictly unnecessary, for illustrative purposes\n",
        "        prod=prod*(k)\n",
        "    return prod\n",
        "\n",
        "print(my_factorial(8))"
      ]
    },
    {
      "cell_type": "markdown",
      "id": "53fcb463-f402-44d2-bb86-cf068ba8e1b2",
      "metadata": {
        "id": "53fcb463-f402-44d2-bb86-cf068ba8e1b2"
      },
      "source": [
        "Functions can take more than just one argument as input.\n",
        "For instance, we can alter our code from the example above to compute $a_N$ for any $N$ and any value for $a_0$, rather than just $N=10$ and $a_0=1$."
      ]
    },
    {
      "cell_type": "code",
      "execution_count": null,
      "id": "aba82729-5c55-4ebc-8b35-a916f595df38",
      "metadata": {
        "id": "aba82729-5c55-4ebc-8b35-a916f595df38"
      },
      "outputs": [],
      "source": [
        "def a_N(N,a_0):  #This says our function takes two arguments, N and a_0\n",
        "    a=a_0         #generalizing from above--a is the variable we'll work with, a_0 is supplied by argument\n",
        "    for n in range(N): # generalizing from above\n",
        "        #now, we need two tabs to place code in the loop.\n",
        "        print(\"a_\",n,\"=\",a)\n",
        "        a=(1-2*a)/3\n",
        "    return a      #every function has to end with a return line\n",
        "a_N(20,3)  #This finds a_20 with a_0=3.\n",
        "           #the value at the bottom is what is computed in the line starting with \"return\"\n"
      ]
    },
    {
      "cell_type": "markdown",
      "id": "b262e2bb-7315-44f7-916f-412317711d6c",
      "metadata": {
        "id": "b262e2bb-7315-44f7-916f-412317711d6c"
      },
      "source": [
        "#### Exercise 2(a): Functions of your own!\n",
        "**(a)** Similar to above, return to your code from exercise 1(a) and generalize it to a function `b_N` which take arguments `N` and `b_0` and returns the `N`th term of the recursive sequence defined by $b_n=(1+2b_{n-1})/4$ where $b_0$ is given by the argument `b_0`.\n",
        "Once again, your function should print the current value of $b_n$ at each $n$.\n",
        "To make sure your function is correct, you are given that when $b_0=10000$, $b_{23}=0.501192033290863$."
      ]
    },
    {
      "cell_type": "code",
      "execution_count": null,
      "id": "b744294e-a2f1-4587-b425-4b77f1f1d319",
      "metadata": {
        "id": "b744294e-a2f1-4587-b425-4b77f1f1d319",
        "outputId": "4fe38db1-6065-4053-b59c-a6a5546cca4e",
        "colab": {
          "base_uri": "https://localhost:8080/"
        }
      },
      "outputs": [
        {
          "output_type": "stream",
          "name": "stdout",
          "text": [
            "b_0 = 1000\n",
            "b_1 = 500.25\n",
            "b_2 = 250.375\n",
            "b_3 = 125.4375\n",
            "b_4 = 62.96875\n",
            "b_5 = 31.734375\n",
            "b_6 = 16.1171875\n",
            "b_7 = 8.30859375\n",
            "b_8 = 4.404296875\n",
            "b_9 = 2.4521484375\n",
            "b_10 = 1.47607421875\n",
            "b_11 = 0.988037109375\n",
            "b_12 = 0.7440185546875\n",
            "b_13 = 0.62200927734375\n",
            "b_14 = 0.561004638671875\n",
            "b_15 = 0.5305023193359375\n",
            "b_16 = 0.5152511596679688\n",
            "b_17 = 0.5076255798339844\n",
            "b_18 = 0.5038127899169922\n",
            "b_19 = 0.5019063949584961\n",
            "b_20 = 0.500953197479248\n",
            "b_21 = 0.500476598739624\n",
            "b_22 = 0.500238299369812\n"
          ]
        },
        {
          "output_type": "execute_result",
          "data": {
            "text/plain": [
              "0.500119149684906"
            ]
          },
          "metadata": {},
          "execution_count": 13
        }
      ],
      "source": [
        "#YOUR CODE HERE\n",
        "def b_N(N,b_initial):   # 2 input, b is the initial value, and N for N th term\n",
        "    b = b_initial\n",
        "    for n in range(N):\n",
        "        print(f\"b_{n} = {b}\")\n",
        "        b = (1 + 2 * b) / 4\n",
        "    return b\n",
        "\n",
        "b_N(23,1000)"
      ]
    },
    {
      "cell_type": "markdown",
      "id": "baa199f9-3b84-4c19-a96c-582b25e35d91",
      "metadata": {
        "id": "baa199f9-3b84-4c19-a96c-582b25e35d91"
      },
      "source": [
        "___"
      ]
    },
    {
      "cell_type": "markdown",
      "id": "322c5ca1-7193-4339-bfd9-c919874b3c03",
      "metadata": {
        "id": "322c5ca1-7193-4339-bfd9-c919874b3c03"
      },
      "source": [
        "We can write a function which performs the same using *recursion*.\n",
        "This is a function which calls itself to compute.\n",
        "This is best illustrated with a classic example.\n",
        "Recall that the factorial $n!$ is defined as $n*(n-1)*\\dots *2*1$ with the convention that $0!=1$.\n",
        "Equivalently, $n!$ can be defined as $n*(n-1)!$ along with the declaration $0!=1$.\n",
        "The following uses this latter definition to define the factorial in Python.\n",
        "This is the much more commonly seen method of defining the factorial.\n",
        "\n",
        "*Note:* The `print` statements are for illustrative purposes only.\n",
        "How does the printed output of `my_factorial` differ from that of `my_factorial_recursive`?\n",
        "Why do you think that is?"
      ]
    },
    {
      "cell_type": "code",
      "execution_count": null,
      "id": "16dd1d07-2b73-4227-88f5-2ba5bf5b9b9f",
      "metadata": {
        "id": "16dd1d07-2b73-4227-88f5-2ba5bf5b9b9f"
      },
      "outputs": [],
      "source": [
        "def my_factorial_recursive(n):\n",
        "    if n==0:\n",
        "        print(n)\n",
        "        return 1\n",
        "    else:\n",
        "        print(n)\n",
        "        return n*my_factorial_recursive(n-1)\n"
      ]
    },
    {
      "cell_type": "code",
      "execution_count": null,
      "id": "ca2673a8-fc70-438a-b32c-905a2c80ad1f",
      "metadata": {
        "id": "ca2673a8-fc70-438a-b32c-905a2c80ad1f"
      },
      "outputs": [],
      "source": [
        "my_factorial_recursive(15)"
      ]
    },
    {
      "cell_type": "code",
      "execution_count": null,
      "id": "e3c45b54-a4b9-41b8-ac1e-2015026ab3e4",
      "metadata": {
        "id": "e3c45b54-a4b9-41b8-ac1e-2015026ab3e4"
      },
      "outputs": [],
      "source": [
        "my_factorial(15)"
      ]
    },
    {
      "cell_type": "markdown",
      "id": "a59bea04-8353-4cc8-a8a1-40eb1bc94e29",
      "metadata": {
        "id": "a59bea04-8353-4cc8-a8a1-40eb1bc94e29"
      },
      "source": [
        "We can also give a recursive definition of `a_N`."
      ]
    },
    {
      "cell_type": "code",
      "execution_count": null,
      "id": "7bc31c66-32d4-45c0-8fc4-00dc5a8951c8",
      "metadata": {
        "id": "7bc31c66-32d4-45c0-8fc4-00dc5a8951c8"
      },
      "outputs": [],
      "source": [
        "def recursive_a_N(N,a_0):\n",
        "    if N==0:\n",
        "        a=a_0\n",
        "        print(\"a_\",N,\"=\", a)\n",
        "        return a\n",
        "    else:\n",
        "        #print(\"a_\",N-1,\"=\", recursive_a_N(N-1,a_0)) #what do you think will happen if we un-comment this?\n",
        "        a=(1-2*recursive_a_N(N-1,a_0))/3\n",
        "        print(\"a_\",N,\"=\", a)\n",
        "        return a"
      ]
    },
    {
      "cell_type": "code",
      "execution_count": null,
      "id": "e2e210d5-7e17-472d-9d38-dc89d8c887d2",
      "metadata": {
        "id": "e2e210d5-7e17-472d-9d38-dc89d8c887d2"
      },
      "outputs": [],
      "source": [
        "recursive_a_N(15,1)"
      ]
    },
    {
      "cell_type": "code",
      "execution_count": null,
      "id": "5335b26b-64ec-4f87-b725-28d5044bed1d",
      "metadata": {
        "id": "5335b26b-64ec-4f87-b725-28d5044bed1d"
      },
      "outputs": [],
      "source": [
        "a_N(15,1)  #check this was what we were expecting"
      ]
    },
    {
      "cell_type": "markdown",
      "id": "b137d785-63f5-462b-b83c-cb0992e4a74e",
      "metadata": {
        "id": "b137d785-63f5-462b-b83c-cb0992e4a74e"
      },
      "source": [
        "#### Exercise 2(b): Recursive Functions for Recursive Sequences\n",
        "Below, give a recursive version of `b_N`.\n",
        "You no longer need include any `print` statements.\n",
        "Be sure to check your `recursive_b_N` against the original `b_N` to make sure they give the same values."
      ]
    },
    {
      "cell_type": "code",
      "execution_count": 3,
      "id": "2e63534d-ec9e-45b1-a117-769b931a0bc5",
      "metadata": {
        "id": "2e63534d-ec9e-45b1-a117-769b931a0bc5",
        "outputId": "6bf773e7-e907-4425-dc57-f1291a0e2ea9",
        "colab": {
          "base_uri": "https://localhost:8080/"
        }
      },
      "outputs": [
        {
          "output_type": "stream",
          "name": "stdout",
          "text": [
            "b_0 = 10000\n",
            "b_1 = 5000.25\n",
            "b_2 = 2500.375\n",
            "b_3 = 1250.4375\n",
            "b_4 = 625.46875\n",
            "b_5 = 312.984375\n",
            "b_6 = 156.7421875\n",
            "b_7 = 78.62109375\n",
            "b_8 = 39.560546875\n",
            "b_9 = 20.0302734375\n",
            "b_10 = 10.26513671875\n",
            "b_11 = 5.382568359375\n",
            "b_12 = 2.9412841796875\n",
            "b_13 = 1.72064208984375\n",
            "b_14 = 1.110321044921875\n",
            "b_15 = 0.8051605224609375\n",
            "b_16 = 0.6525802612304688\n",
            "b_17 = 0.5762901306152344\n",
            "b_18 = 0.5381450653076172\n",
            "b_19 = 0.5190725326538086\n",
            "b_20 = 0.5095362663269043\n",
            "b_21 = 0.5047681331634521\n",
            "b_22 = 0.5023840665817261\n",
            "b_23 = 0.501192033290863\n",
            "0.501192033290863\n"
          ]
        }
      ],
      "source": [
        "def recursive_b_N(N,b_0):\n",
        "    if N == 0:\n",
        "        b = b_0\n",
        "        print(f\"b_{N} = {b}\")\n",
        "        return b\n",
        "    else:\n",
        "        b = (1 + 2 * recursive_b_N(N-1,b_0)) / 4\n",
        "        print(f\"b_{N} = {b}\")\n",
        "        return b\n",
        "print(recursive_b_N(23,10000))"
      ]
    },
    {
      "cell_type": "markdown",
      "id": "f8e756d2-dc48-425f-8e01-a7879fe7225f",
      "metadata": {
        "id": "f8e756d2-dc48-425f-8e01-a7879fe7225f"
      },
      "source": [
        "### Defaults, List Arguments, and Optional Arguments\n",
        "One common technique in defining functions is to assign default values to arguments.\n",
        "This is perhaps best illustrated by example."
      ]
    },
    {
      "cell_type": "code",
      "execution_count": null,
      "id": "0afee41f-473c-4859-8309-8783b8dc9aab",
      "metadata": {
        "id": "0afee41f-473c-4859-8309-8783b8dc9aab"
      },
      "outputs": [],
      "source": [
        "def print_if_you_like(String=\"no input provided\"):\n",
        "    print(String)\n",
        "    return"
      ]
    },
    {
      "cell_type": "code",
      "execution_count": null,
      "id": "2f14e18f-9849-4060-9014-7b7b7471a3f4",
      "metadata": {
        "id": "2f14e18f-9849-4060-9014-7b7b7471a3f4"
      },
      "outputs": [],
      "source": [
        "print_if_you_like(\"here is a string provided by the user\")"
      ]
    },
    {
      "cell_type": "code",
      "execution_count": null,
      "id": "8ce01ae9-246c-4e7a-aa48-2bc5d23712ae",
      "metadata": {
        "id": "8ce01ae9-246c-4e7a-aa48-2bc5d23712ae"
      },
      "outputs": [],
      "source": [
        "print_if_you_like(String=\"here's another way to call this function\")"
      ]
    },
    {
      "cell_type": "code",
      "execution_count": null,
      "id": "27783b92-1f51-4022-9c40-d2d896c5534d",
      "metadata": {
        "id": "27783b92-1f51-4022-9c40-d2d896c5534d"
      },
      "outputs": [],
      "source": [
        "print_if_you_like()  #what do you expect the output to be?"
      ]
    },
    {
      "cell_type": "markdown",
      "id": "9097eec6-09e0-438c-8505-c10d819eb41d",
      "metadata": {
        "id": "9097eec6-09e0-438c-8505-c10d819eb41d"
      },
      "source": [
        "Often, we'll need functions that take an unknown number of inputs.\n",
        "There are two major ways of doing this: optional arguments and list arguments.\n",
        "To demonstrate list arguments, here is a function which takes a list of numbers and adds them all up.\n",
        "Note how the loop is set up!"
      ]
    },
    {
      "cell_type": "code",
      "execution_count": null,
      "id": "ca94ec35-5879-4eaa-b49c-ea19b5d6e842",
      "metadata": {
        "id": "ca94ec35-5879-4eaa-b49c-ea19b5d6e842"
      },
      "outputs": [],
      "source": [
        "def list_sum(numlist=[]): #default to empty list\n",
        "    tot=0                 #sum of nothing is 0\n",
        "    for n in numlist:     #no need to call len(numlist)!\n",
        "        tot+=n            #same as tot=tot+n\n",
        "    return tot\n"
      ]
    },
    {
      "cell_type": "code",
      "execution_count": null,
      "id": "499a9b16-ed9d-4e9b-931e-128100b20513",
      "metadata": {
        "id": "499a9b16-ed9d-4e9b-931e-128100b20513"
      },
      "outputs": [],
      "source": [
        "list_sum([1,2,-3,4])"
      ]
    },
    {
      "cell_type": "code",
      "execution_count": null,
      "id": "227343cc-4c2a-472f-987a-1ddb54dfe212",
      "metadata": {
        "id": "227343cc-4c2a-472f-987a-1ddb54dfe212"
      },
      "outputs": [],
      "source": [
        "list_sum()"
      ]
    },
    {
      "cell_type": "markdown",
      "id": "0bd32f0e-8125-4a20-96b9-31fb8240aa33",
      "metadata": {
        "id": "0bd32f0e-8125-4a20-96b9-31fb8240aa33"
      },
      "source": [
        "Here is an essentially identical function using optional arguments instead.\n",
        "Think of the asterisk `*` as declaring that there may be any number of arguments, which the function treats as a list called `numlist`."
      ]
    },
    {
      "cell_type": "code",
      "execution_count": null,
      "id": "935f0d83-73cd-49c7-9035-230644b8ca13",
      "metadata": {
        "id": "935f0d83-73cd-49c7-9035-230644b8ca13"
      },
      "outputs": [],
      "source": [
        "def optional_sum(*numlist):\n",
        "    tot=0\n",
        "    for n in numlist:\n",
        "        tot+=n\n",
        "    return tot"
      ]
    },
    {
      "cell_type": "code",
      "execution_count": null,
      "id": "bff6105c-87bd-440c-a941-eb739fa3006a",
      "metadata": {
        "id": "bff6105c-87bd-440c-a941-eb739fa3006a"
      },
      "outputs": [],
      "source": [
        "optional_sum()"
      ]
    },
    {
      "cell_type": "code",
      "execution_count": null,
      "id": "7a68b2b2-29e3-41fc-8028-34206524ec1a",
      "metadata": {
        "id": "7a68b2b2-29e3-41fc-8028-34206524ec1a"
      },
      "outputs": [],
      "source": [
        "optional_sum(1,2,-3,4)     #note the arguments are not enclosed in a list this time!"
      ]
    },
    {
      "cell_type": "markdown",
      "id": "e35dabc6-ba4a-485c-b2f9-b662a4b1d1ae",
      "metadata": {
        "id": "e35dabc6-ba4a-485c-b2f9-b662a4b1d1ae"
      },
      "source": [
        "The following will throw an error. Uncomment the code line by removing the `#` at the beginning and see what the error says. Why do you think it occurred?"
      ]
    },
    {
      "cell_type": "code",
      "execution_count": null,
      "id": "549fb80b-1959-4979-9eb2-492fcdc3cbfa",
      "metadata": {
        "id": "549fb80b-1959-4979-9eb2-492fcdc3cbfa"
      },
      "outputs": [],
      "source": [
        "#optional_sum([1,2,-3,4])   #this doesn't work"
      ]
    },
    {
      "cell_type": "markdown",
      "id": "f29f458b-f177-4a1c-b7c5-833128e27bee",
      "metadata": {
        "id": "f29f458b-f177-4a1c-b7c5-833128e27bee"
      },
      "source": [
        "#### Exercise 2(c) Optional and List Arguments of Your Own.\n",
        "(i)Write functions `list_mult` and `optional_mult` which behave similarly to `list_sum` and `optional_sum` but instead multiply their arguments.\n",
        "\n",
        "(ii)Then, write a function `arg_reader` which prints each of its arguments (say `arg`) and the number `n` of remaining terms in the format \"reading `arg`, `n` arguments remain\" then prints \"all done!\".\n",
        "You may use either a list argument or optional arguments.\n",
        "\n",
        "<details>\n",
        "<summary>\n",
        "    <b>\n",
        "        Details for (ii)\n",
        "    </b> (Click here to open)\n",
        "</summary>\n",
        "    \n",
        "Example input (list version):\n",
        "```python\n",
        "arg_reader([\"Nebraska\",\"Wisconsin\", 1/3,11/4,311/25])\n",
        "```\n",
        "Example input (optional argument version)\n",
        "```python\n",
        "arg_reader(\"Nebraska\",\"Wisconsin\", 1/3,11/4,311/25)\n",
        "```\n",
        "Output (both):\n",
        "```\n",
        "reading Nebraska . 4 arguments remain\n",
        "reading Wisconsin . 3 arguments remain\n",
        "reading 0.3333333333333333 . 2 arguments remain\n",
        "reading 2.75 . 1 arguments remain\n",
        "reading 12.44 . 0 arguments remain\n",
        "all done!\n",
        "```\n",
        "\n",
        "    \n",
        "</details>\n",
        "\n",
        "\n",
        "<details>\n",
        "    <summary>\n",
        "        <b> Hint: </b>\n",
        "        (click here to open)\n",
        "    </summary>\n",
        "\n",
        "- To print more complicated statements like this, `print` takes optional arguments!\n",
        "  For example:\n",
        "```python\n",
        "a=1\n",
        "b=2\n",
        "c=\"red\"\n",
        "d=\"blue\"\n",
        "print(a,\"fish\",b,\"fish\",c,\"fish\",d,\"fish\")\n",
        "```\n",
        "returns\n",
        "```\n",
        "1 fish 2 fish red fish blue fish\n",
        "```\n",
        "\n",
        "</details>"
      ]
    },
    {
      "cell_type": "code",
      "execution_count": 2,
      "id": "e210ecb2-f163-4768-b377-45a3477cec6a",
      "metadata": {
        "id": "e210ecb2-f163-4768-b377-45a3477cec6a",
        "outputId": "4334d85a-551d-424a-ce9a-bd94001a1b3f",
        "colab": {
          "base_uri": "https://localhost:8080/"
        }
      },
      "outputs": [
        {
          "output_type": "stream",
          "name": "stdout",
          "text": [
            "reading ['Nebraska', 'Wisconsin', 0.3333333333333333, 2.75, 12.44] . 0 arguments remain\n",
            "all done!\n",
            "reading Nebraska . 4 arguments remain\n",
            "reading Wisconsin . 3 arguments remain\n",
            "reading 0.3333333333333333 . 2 arguments remain\n",
            "reading 2.75 . 1 arguments remain\n",
            "reading 12.44 . 0 arguments remain\n",
            "all done!\n"
          ]
        }
      ],
      "source": [
        "# Part (i)\n",
        "\n",
        "def list_mult(numlist=[]):\n",
        "    tot = 1\n",
        "    for n in numlist:\n",
        "        tot *= n\n",
        "\n",
        "def optional_mult(*numlist):\n",
        "    tot = 1\n",
        "    for n in numlist:\n",
        "        tot *= n\n",
        "    return tot\n",
        "# Part (ii)\n",
        "def arg_reader(*args):\n",
        "    total = len(args)\n",
        "    for i, arg in enumerate(args):\n",
        "        remain = total - i - 1\n",
        "        print(f\"reading {arg} . {remain} arguments remain\")\n",
        "    print(\"all done!\")\n",
        "    return\n",
        "arg_reader([\"Nebraska\",\"Wisconsin\", 1/3,11/4,311/25])\n",
        "arg_reader(\"Nebraska\",\"Wisconsin\", 1/3,11/4,311/25)"
      ]
    },
    {
      "cell_type": "markdown",
      "id": "9f885f0b-6237-4cec-86e9-4fffc0751cb0",
      "metadata": {
        "id": "9f885f0b-6237-4cec-86e9-4fffc0751cb0"
      },
      "source": [
        "___"
      ]
    },
    {
      "cell_type": "markdown",
      "id": "1968c910-d93e-41b6-98f0-1b378437967a",
      "metadata": {
        "id": "1968c910-d93e-41b6-98f0-1b378437967a"
      },
      "source": [
        "## Introducing NumPy\n",
        "The very first thing to do with any library we utilize is to *import* it into the current project:"
      ]
    },
    {
      "cell_type": "code",
      "execution_count": null,
      "id": "6333531d-41e0-4628-8f35-101123e7a02f",
      "metadata": {
        "id": "6333531d-41e0-4628-8f35-101123e7a02f"
      },
      "outputs": [],
      "source": [
        "import numpy as np"
      ]
    },
    {
      "cell_type": "markdown",
      "id": "e20ff422-3a1e-4b42-ba96-b0d250e64b1d",
      "metadata": {
        "id": "e20ff422-3a1e-4b42-ba96-b0d250e64b1d"
      },
      "source": [
        "This allows us to use the library's functions and objects.\n",
        "To see a list of these, type `np.` into a cell and hit the \"Tab\" key--this will bring up the sublibraries and functions available.\n",
        "\n",
        "### The `np.ndarray`\n",
        "The basic object offered by `numpy` is the `ndarray` data type.\n",
        "One can instantiate an `ndarray` with the `np.array` function, as below.\n",
        "`np.array` takes a list as input.\n",
        "For a multidimensional array (such as a matrix), we use a list of lists, with each inner list representing a row.\n",
        "\n",
        "In certain applications, `ndarray`s with `int` entries can have unexpected behavior.\n",
        "To prevent this, we'll explicitly *declare* the type as `float64` when calling `np.array`--you are encouraged to get in the habit of including the `\"float64\"` at the end, as below."
      ]
    },
    {
      "cell_type": "code",
      "execution_count": null,
      "id": "ee739b8b-667f-4077-82fc-f4ef05d7ba10",
      "metadata": {
        "id": "ee739b8b-667f-4077-82fc-f4ef05d7ba10"
      },
      "outputs": [],
      "source": [
        "A=np.array([[1,2],[3,4],[5,6]],\"float64\")\n",
        "type(A)"
      ]
    },
    {
      "cell_type": "markdown",
      "id": "d5c7cc7a-7a19-4c5f-abc3-84f64e2973a0",
      "metadata": {
        "id": "d5c7cc7a-7a19-4c5f-abc3-84f64e2973a0"
      },
      "source": [
        "You can check the number of dimensions of an `ndarray` with the `ndim` method:"
      ]
    },
    {
      "cell_type": "code",
      "execution_count": null,
      "id": "7da43d05-fbc5-4fe8-88b5-e20597cd5808",
      "metadata": {
        "id": "7da43d05-fbc5-4fe8-88b5-e20597cd5808"
      },
      "outputs": [],
      "source": [
        "A.ndim"
      ]
    },
    {
      "cell_type": "markdown",
      "id": "658979b1-5e96-4aa2-ab21-c8d450255ade",
      "metadata": {
        "id": "658979b1-5e96-4aa2-ab21-c8d450255ade"
      },
      "source": [
        "Every `ndarray` has a `shape`, giving its dimensions."
      ]
    },
    {
      "cell_type": "code",
      "execution_count": null,
      "id": "b2db0abc-00f7-4288-836e-7ac92a8b7389",
      "metadata": {
        "id": "b2db0abc-00f7-4288-836e-7ac92a8b7389"
      },
      "outputs": [],
      "source": [
        "A.shape #what do you expect it to be?"
      ]
    },
    {
      "cell_type": "markdown",
      "id": "f53d4d67-779f-4762-b754-b9f742efeead",
      "metadata": {
        "id": "f53d4d67-779f-4762-b754-b9f742efeead"
      },
      "source": [
        "Since `A` is a two-dimensional array with two rows and two columns, it has shape `(2,2)`.\n",
        "**Throughout these activities, we will be using the term \"matrix\" as a synonym for 2-dimensional `ndarray`.**"
      ]
    },
    {
      "cell_type": "code",
      "execution_count": null,
      "id": "956d39fd-b49e-42be-9733-d6ce05bde2f7",
      "metadata": {
        "id": "956d39fd-b49e-42be-9733-d6ce05bde2f7"
      },
      "outputs": [],
      "source": [
        "v=np.array([1,-3],\"float64\")\n",
        "v.ndim"
      ]
    },
    {
      "cell_type": "code",
      "execution_count": null,
      "id": "0bd1a42f-2b6c-4286-a37b-51907603ce85",
      "metadata": {
        "id": "0bd1a42f-2b6c-4286-a37b-51907603ce85"
      },
      "outputs": [],
      "source": [
        "v.shape"
      ]
    },
    {
      "cell_type": "markdown",
      "id": "dd1b7ab1-717a-42b2-8149-5044e3a62041",
      "metadata": {
        "id": "dd1b7ab1-717a-42b2-8149-5044e3a62041"
      },
      "source": [
        "One can also use syntax similar to that of for loops to construct `ndarray`s.\n",
        "This will be a crucial tool for us."
      ]
    },
    {
      "cell_type": "code",
      "execution_count": 5,
      "id": "ad3c0d32-231b-4b0f-b2f3-70fd6946f278",
      "metadata": {
        "id": "ad3c0d32-231b-4b0f-b2f3-70fd6946f278",
        "outputId": "78752439-f294-4b3a-ee38-11c869edec17",
        "colab": {
          "base_uri": "https://localhost:8080/",
          "height": 159
        }
      },
      "outputs": [
        {
          "output_type": "error",
          "ename": "NameError",
          "evalue": "name 'np' is not defined",
          "traceback": [
            "\u001b[0;31m---------------------------------------------------------------------------\u001b[0m",
            "\u001b[0;31mNameError\u001b[0m                                 Traceback (most recent call last)",
            "\u001b[0;32m<ipython-input-5-93d9fe89175a>\u001b[0m in \u001b[0;36m<cell line: 0>\u001b[0;34m()\u001b[0m\n\u001b[0;32m----> 1\u001b[0;31m \u001b[0mw\u001b[0m\u001b[0;34m=\u001b[0m\u001b[0mnp\u001b[0m\u001b[0;34m.\u001b[0m\u001b[0marray\u001b[0m\u001b[0;34m(\u001b[0m\u001b[0;34m[\u001b[0m\u001b[0mk\u001b[0m\u001b[0;34m**\u001b[0m\u001b[0;36m2\u001b[0m \u001b[0;32mfor\u001b[0m \u001b[0mk\u001b[0m \u001b[0;32min\u001b[0m \u001b[0mrange\u001b[0m\u001b[0;34m(\u001b[0m\u001b[0;36m5\u001b[0m\u001b[0;34m)\u001b[0m\u001b[0;34m]\u001b[0m\u001b[0;34m,\u001b[0m\u001b[0;34m\"float64\"\u001b[0m\u001b[0;34m)\u001b[0m\u001b[0;34m\u001b[0m\u001b[0;34m\u001b[0m\u001b[0m\n\u001b[0m\u001b[1;32m      2\u001b[0m \u001b[0mw\u001b[0m\u001b[0;34m\u001b[0m\u001b[0;34m\u001b[0m\u001b[0m\n",
            "\u001b[0;31mNameError\u001b[0m: name 'np' is not defined"
          ]
        }
      ],
      "source": [
        "w=np.array([k**2 for k in range(5)],\"float64\")\n",
        "w"
      ]
    },
    {
      "cell_type": "code",
      "execution_count": null,
      "id": "ea09d58a-e12e-4581-af65-4ebcfe2a4829",
      "metadata": {
        "id": "ea09d58a-e12e-4581-af65-4ebcfe2a4829"
      },
      "outputs": [],
      "source": [
        "B=np.array([[i-j/2 for j in range(5)] for i in range(2)],\"float64\")\n",
        "B"
      ]
    },
    {
      "cell_type": "markdown",
      "id": "58c5b38c-c1c6-4bd4-afbc-aca0c58ff951",
      "metadata": {
        "id": "58c5b38c-c1c6-4bd4-afbc-aca0c58ff951"
      },
      "source": [
        "Indexing is similar to before, but now we can supply multiple index arguments."
      ]
    },
    {
      "cell_type": "code",
      "execution_count": 3,
      "id": "43baa6b5-b86b-47e9-a3c7-3d8a495cd8df",
      "metadata": {
        "id": "43baa6b5-b86b-47e9-a3c7-3d8a495cd8df",
        "outputId": "edf91b00-d4a6-4213-aaed-0488a2f38563",
        "colab": {
          "base_uri": "https://localhost:8080/",
          "height": 141
        }
      },
      "outputs": [
        {
          "output_type": "error",
          "ename": "NameError",
          "evalue": "name 'B' is not defined",
          "traceback": [
            "\u001b[0;31m---------------------------------------------------------------------------\u001b[0m",
            "\u001b[0;31mNameError\u001b[0m                                 Traceback (most recent call last)",
            "\u001b[0;32m<ipython-input-3-fa0e988f7b76>\u001b[0m in \u001b[0;36m<cell line: 0>\u001b[0;34m()\u001b[0m\n\u001b[0;32m----> 1\u001b[0;31m \u001b[0mB\u001b[0m\u001b[0;34m[\u001b[0m\u001b[0;36m1\u001b[0m\u001b[0;34m]\u001b[0m \u001b[0;31m#the 1-indexed row\u001b[0m\u001b[0;34m\u001b[0m\u001b[0;34m\u001b[0m\u001b[0m\n\u001b[0m",
            "\u001b[0;31mNameError\u001b[0m: name 'B' is not defined"
          ]
        }
      ],
      "source": [
        "B[1] #the 1-indexed row"
      ]
    },
    {
      "cell_type": "code",
      "execution_count": 4,
      "id": "f15dd824-7bff-4ae5-add9-097b9a4f4fe9",
      "metadata": {
        "id": "f15dd824-7bff-4ae5-add9-097b9a4f4fe9",
        "outputId": "16a2650f-6459-487b-e9fe-6461a2844cff",
        "colab": {
          "base_uri": "https://localhost:8080/",
          "height": 159
        }
      },
      "outputs": [
        {
          "output_type": "error",
          "ename": "NameError",
          "evalue": "name 'B' is not defined",
          "traceback": [
            "\u001b[0;31m---------------------------------------------------------------------------\u001b[0m",
            "\u001b[0;31mNameError\u001b[0m                                 Traceback (most recent call last)",
            "\u001b[0;32m<ipython-input-4-267cc347e4c3>\u001b[0m in \u001b[0;36m<cell line: 0>\u001b[0;34m()\u001b[0m\n\u001b[0;32m----> 1\u001b[0;31m \u001b[0mprint\u001b[0m\u001b[0;34m(\u001b[0m\u001b[0mB\u001b[0m\u001b[0;34m[\u001b[0m\u001b[0;36m1\u001b[0m\u001b[0;34m]\u001b[0m\u001b[0;34m[\u001b[0m\u001b[0;36m2\u001b[0m\u001b[0;34m]\u001b[0m\u001b[0;34m)\u001b[0m \u001b[0;31m#the 2-indexed entry of the 1-indexed row\\\u001b[0m\u001b[0;34m\u001b[0m\u001b[0;34m\u001b[0m\u001b[0m\n\u001b[0m\u001b[1;32m      2\u001b[0m \u001b[0mprint\u001b[0m\u001b[0;34m(\u001b[0m\u001b[0mB\u001b[0m\u001b[0;34m[\u001b[0m\u001b[0;36m1\u001b[0m\u001b[0;34m,\u001b[0m\u001b[0;36m2\u001b[0m\u001b[0;34m]\u001b[0m\u001b[0;34m)\u001b[0m \u001b[0;31m#this is exactly the same\u001b[0m\u001b[0;34m\u001b[0m\u001b[0;34m\u001b[0m\u001b[0m\n",
            "\u001b[0;31mNameError\u001b[0m: name 'B' is not defined"
          ]
        }
      ],
      "source": [
        "print(B[1][2]) #the 2-indexed entry of the 1-indexed row\\\n",
        "print(B[1,2]) #this is exactly the same"
      ]
    },
    {
      "cell_type": "markdown",
      "id": "3ec4a666-ea7f-46ff-b028-cca05a121331",
      "metadata": {
        "id": "3ec4a666-ea7f-46ff-b028-cca05a121331"
      },
      "source": [
        "A crucial technique for working with `ndarray`s is *slicing*.\n",
        "This allows us to take submatrices.\n",
        "For instance, suppose we want to extract the middle column of `B`:"
      ]
    },
    {
      "cell_type": "code",
      "execution_count": null,
      "id": "09e8c4f0-d881-4d20-9aa0-c46ab435bd4e",
      "metadata": {
        "id": "09e8c4f0-d881-4d20-9aa0-c46ab435bd4e"
      },
      "outputs": [],
      "source": [
        "c=B[:,2]  #colon in first entry means ranging from beginning to end, 2 in second entry specifies column\n",
        "c"
      ]
    },
    {
      "cell_type": "code",
      "execution_count": null,
      "id": "25923d2c-0c3f-41ef-9cd4-ae50045db600",
      "metadata": {
        "id": "25923d2c-0c3f-41ef-9cd4-ae50045db600"
      },
      "outputs": [],
      "source": [
        "c.shape #notice that numpy automatically stores it in as few dimensions as possible"
      ]
    },
    {
      "cell_type": "markdown",
      "id": "c1cc5295-5f65-44a5-8a32-72a8f05c0fa7",
      "metadata": {
        "id": "c1cc5295-5f65-44a5-8a32-72a8f05c0fa7"
      },
      "source": [
        "Beyond extracting columns, one can extract larger submatrices."
      ]
    },
    {
      "cell_type": "code",
      "execution_count": null,
      "id": "e6524e51-1008-4f04-81cd-bd1387a0f791",
      "metadata": {
        "id": "e6524e51-1008-4f04-81cd-bd1387a0f791"
      },
      "outputs": [],
      "source": [
        "B[:,1:] # all columns starting with column 1"
      ]
    },
    {
      "cell_type": "markdown",
      "id": "81b09187-7654-4d5a-af02-f9ceb222770c",
      "metadata": {
        "id": "81b09187-7654-4d5a-af02-f9ceb222770c"
      },
      "source": [
        "#### Exercise 3: Constructing and Slicing Matrices\n",
        "**(a)** In the cell below, construct a $5\\times 6$ matrix $C=(\\frac{i+1}{j+1})_{ij}$.\n",
        "That is, your code should produce the matrix $$\n",
        "\\begin{pmatrix}\n",
        "1 & \\frac{2}{3} & \\frac{1}{2} & \\frac25 &\\frac13 & \\frac27\\\\\n",
        "\\frac32 & 1 & \\frac{3}{4} & \\frac35&\\frac12 & \\frac37\\\\\n",
        "2 & \\frac{4}{3} & 1 & \\frac45 &\\frac23 & \\frac47\\\\\n",
        "\\frac52 & \\frac{5}{3} & \\frac{5}{4} & 1 &\\frac56 & \\frac57\\\\\n",
        "3 &2 & \\frac{3}{2} & \\frac65 &1 & \\frac67\n",
        "\\end{pmatrix}.$$\n",
        "\n",
        "Be sure to account for Python indexing conventions! (i.e. starting at 0). You may need to adjust your formula to do so.\n"
      ]
    },
    {
      "cell_type": "code",
      "execution_count": 7,
      "id": "526e6169-68ed-4a9a-99b5-f295143efef7",
      "metadata": {
        "id": "526e6169-68ed-4a9a-99b5-f295143efef7",
        "outputId": "96a0b2e9-60c2-4693-942a-ed3a6b476344",
        "colab": {
          "base_uri": "https://localhost:8080/"
        }
      },
      "outputs": [
        {
          "output_type": "stream",
          "name": "stdout",
          "text": [
            "[[1.         0.66666667 0.5        0.4        0.33333333 0.28571429]\n",
            " [1.5        1.         0.75       0.6        0.5        0.42857143]\n",
            " [2.         1.33333333 1.         0.8        0.66666667 0.57142857]\n",
            " [2.5        1.66666667 1.25       1.         0.83333333 0.71428571]\n",
            " [3.         2.         1.5        1.2        1.         0.85714286]]\n"
          ]
        }
      ],
      "source": [
        "import numpy as np\n",
        "\n",
        "# row and columns\n",
        "rows, cols = 5, 6\n",
        "\n",
        "C = np.array([[(i + 1) / (j + 1) for j in range(1,7)] for i in range(1,6)])\n",
        "print(C)\n"
      ]
    },
    {
      "cell_type": "markdown",
      "id": "74ae1cdd-555b-4fa5-adf8-5eaabc9d7ded",
      "metadata": {
        "id": "74ae1cdd-555b-4fa5-adf8-5eaabc9d7ded"
      },
      "source": [
        "___"
      ]
    },
    {
      "cell_type": "markdown",
      "id": "0b31e7aa-ee83-46b5-8196-037c11b69652",
      "metadata": {
        "id": "0b31e7aa-ee83-46b5-8196-037c11b69652"
      },
      "source": [
        "**(b):** Use *slicing* to extract the third row (that is $\\begin{pmatrix}2&\\frac43&1&\\frac45&\\frac23&\\frac47\\end{pmatrix}$) and the fourth column (that is $\\begin{pmatrix}\\frac25&\\frac35&\\frac45&1&\\frac65\\end{pmatrix}$) as vectors `u_1` and `u_2` respectively. Do **not** use any other method to do so."
      ]
    },
    {
      "cell_type": "code",
      "execution_count": 8,
      "id": "0a8dc3a9-91fa-4865-9d00-330f1624efd1",
      "metadata": {
        "id": "0a8dc3a9-91fa-4865-9d00-330f1624efd1",
        "outputId": "cbce6747-b659-4591-a2dc-290d7948a7e5",
        "colab": {
          "base_uri": "https://localhost:8080/"
        }
      },
      "outputs": [
        {
          "output_type": "stream",
          "name": "stdout",
          "text": [
            "3 row is [2.         1.33333333 1.         0.8        0.66666667 0.57142857]\n",
            "4 column is [0.4 0.6 0.8 1.  1.2]\n"
          ]
        }
      ],
      "source": [
        "import numpy as np\n",
        "\n",
        "# row and columns\n",
        "rows, cols = 5, 6\n",
        "\n",
        "C = np.array([[(i + 1) / (j + 1) for j in range(1,7)] for i in range(1,6)])\n",
        "\n",
        "\n",
        "\n",
        "## part B\n",
        "# extra 3 row\n",
        "u_1 = C[2, :]\n",
        "\n",
        "# extra 4 column\n",
        "u_2 = C[:, 3]\n",
        "print(f\"3 row is {u_1}\")\n",
        "print(f\"4 column is {u_2}\")\n"
      ]
    },
    {
      "cell_type": "markdown",
      "id": "944f76c6-6c7b-4449-bec7-000499782de3",
      "metadata": {
        "id": "944f76c6-6c7b-4449-bec7-000499782de3"
      },
      "source": [
        "___"
      ]
    },
    {
      "cell_type": "markdown",
      "id": "116a4e6c-9187-4f4e-9abc-644fc7e34e47",
      "metadata": {
        "id": "116a4e6c-9187-4f4e-9abc-644fc7e34e47"
      },
      "source": [
        "**(c):** Use slicing to extract the submatrix `C_abridged` which only has the second through fourth rows and third and fourth column.\n",
        "That is, your code should produce the matrix\n",
        "$$\n",
        "\\begin{pmatrix}\n",
        " \\frac{3}{4} & \\frac35\\\\%&\\frac12 & \\frac37\\\\\n",
        "1 & \\frac45\\\\% &\\frac23  \\frac47\\\\\n",
        " \\frac{5}{4} & 1% &\\frac56 & \\frac57\\\\\n",
        "\\end{pmatrix}\n",
        "$$"
      ]
    },
    {
      "cell_type": "code",
      "execution_count": 9,
      "id": "16a2a80b-9ad9-47b3-af21-0f26c430edd6",
      "metadata": {
        "id": "16a2a80b-9ad9-47b3-af21-0f26c430edd6",
        "outputId": "88b696a2-0460-4dfe-8b28-0c12df41007b",
        "colab": {
          "base_uri": "https://localhost:8080/"
        }
      },
      "outputs": [
        {
          "output_type": "stream",
          "name": "stdout",
          "text": [
            "second through fourth rows and third and fourth column is:\n",
            " [[0.75 0.6 ]\n",
            " [1.   0.8 ]\n",
            " [1.25 1.  ]]\n"
          ]
        }
      ],
      "source": [
        "import numpy as np\n",
        "\n",
        "# row and columns\n",
        "rows, cols = 5, 6\n",
        "\n",
        "C = np.array([[(i + 1) / (j + 1) for j in range(1,7)] for i in range(1,6)])\n",
        "\n",
        "# Part C\n",
        "C_abridged = C[1:4, 2:4]\n",
        "print(f\"second through fourth rows and third and fourth column is:\\n {C_abridged}\")"
      ]
    },
    {
      "cell_type": "markdown",
      "id": "6b45b289-8a0d-4c03-b87a-d94443f191e9",
      "metadata": {
        "id": "6b45b289-8a0d-4c03-b87a-d94443f191e9"
      },
      "source": [
        "___"
      ]
    },
    {
      "cell_type": "markdown",
      "id": "e0bebbeb-f54a-47bf-a94b-afa1141f50ad",
      "metadata": {
        "id": "e0bebbeb-f54a-47bf-a94b-afa1141f50ad"
      },
      "source": [
        "**(d)** [View vs. Copy]\n",
        "\n",
        "- (i) Change the 3/4 in the second row of `C` to 99. Does that change `C_abridged`?\n",
        "- (ii) Change the 1 in the second row of `C_abridged` to -99. Does that change `C`?\n",
        "- (iii) Enter in the line `C_new=C.copy()`, then change the second row of `C_new` to five times the first. Does that change `C`?\n",
        "- (iv) Summarize your findings below."
      ]
    },
    {
      "cell_type": "code",
      "execution_count": 11,
      "id": "902bd9e3-616c-4907-81e2-6b261e3e633a",
      "metadata": {
        "id": "902bd9e3-616c-4907-81e2-6b261e3e633a",
        "outputId": "341845d4-4e9b-4df4-b215-1d87397641d6",
        "colab": {
          "base_uri": "https://localhost:8080/"
        }
      },
      "outputs": [
        {
          "output_type": "stream",
          "name": "stdout",
          "text": [
            "second through fourth rows and third and fourth column is:\n",
            " [[0.75 0.6 ]\n",
            " [1.   0.8 ]\n",
            " [1.25 1.  ]]\n",
            " after change is:\n",
            " [[-99.     0.6 ]\n",
            " [  1.     0.8 ]\n",
            " [  1.25   1.  ]], \n",
            " the bool value for comparison is: \n",
            " [[ True  True]\n",
            " [ True  True]\n",
            " [ True  True]]\n"
          ]
        }
      ],
      "source": [
        "# From the result it is change but it is wired that after change, result of the value comparison is True(it should be False).\n",
        "import numpy as np\n",
        "\n",
        "# row and columns\n",
        "rows, cols = 5, 6\n",
        "\n",
        "C = np.array([[(i + 1) / (j + 1) for j in range(1,7)] for i in range(1,6)])\n",
        "\n",
        "# Part C\n",
        "C_abridged = C[1:4, 2:4]\n",
        "print(f\"second through fourth rows and third and fourth column is:\\n {C_abridged}\")\n",
        "\n",
        "test_change = C_abridged # to see if it is change\n",
        "\n",
        "# part D\n",
        "C_abridged[0, 0] = -99\n",
        "print(f\" after change is:\\n {C_abridged}, \\n the bool value for comparison is: \\n {test_change == C_abridged}\")\n"
      ]
    },
    {
      "cell_type": "code",
      "execution_count": 12,
      "id": "a1e7fa9d-0885-4c97-b92b-dc36126ef4e0",
      "metadata": {
        "id": "a1e7fa9d-0885-4c97-b92b-dc36126ef4e0",
        "outputId": "9865fcea-14e9-41e4-da3c-bbeb9d249baa",
        "colab": {
          "base_uri": "https://localhost:8080/"
        }
      },
      "outputs": [
        {
          "output_type": "stream",
          "name": "stdout",
          "text": [
            "origional C_abridged is:\n",
            " [[0.75 0.6 ]\n",
            " [1.   0.8 ]\n",
            " [1.25 1.  ]]\n",
            "after part i and ii, the C_abridged is:\n",
            " [[ 99.     0.6 ]\n",
            " [-99.     0.8 ]\n",
            " [  1.25   1.  ]]\n"
          ]
        }
      ],
      "source": [
        "import numpy as np\n",
        "\n",
        "# row and columns\n",
        "rows, cols = 5, 6\n",
        "\n",
        "C = np.array([[(i + 1) / (j + 1) for j in range(1,7)] for i in range(1,6)])\n",
        "\n",
        "# Part C\n",
        "C_abridged = C[1:4, 2:4]\n",
        "#print(f\"second through fourth rows and third and fourth column is:\\n {C_abridged}\")\n",
        "\n",
        "# test_change = C_abridged # to see if it is change\n",
        "\n",
        "print(f\"origional C_abridged is:\\n {C_abridged}\")\n",
        "\n",
        "# part D\n",
        "# (i)\n",
        "C_abridged[0, 0] = 99\n",
        "#print(f\" after change is:\\n {C_abridged}, \\n the bool value is: \\n {test_change == C_abridged}\")\n",
        "\n",
        "# (ii)\n",
        "C_abridged[1, 0] = -99\n",
        "\n",
        "print(f\"after part i and ii, the C_abridged is:\\n {C_abridged}\")"
      ]
    },
    {
      "cell_type": "code",
      "execution_count": 13,
      "id": "9fb6086a-bcf8-4d5d-85e8-80b291f3920c",
      "metadata": {
        "id": "9fb6086a-bcf8-4d5d-85e8-80b291f3920c",
        "outputId": "00acb74f-3e52-4fb7-cb64-c457d172e6e5",
        "colab": {
          "base_uri": "https://localhost:8080/"
        }
      },
      "outputs": [
        {
          "output_type": "stream",
          "name": "stdout",
          "text": [
            "origional C_abridged is:\n",
            " [[0.75 0.6 ]\n",
            " [1.   0.8 ]\n",
            " [1.25 1.  ]]\n",
            "after part i and ii, the C_abridged is:\n",
            " [[ 99.     0.6 ]\n",
            " [-99.     0.8 ]\n",
            " [  1.25   1.  ]]\n",
            "C_new is:\n",
            " [[  1.           0.66666667   0.5          0.4          0.33333333\n",
            "    0.28571429]\n",
            " [  5.           3.33333333   2.5          2.           1.66666667\n",
            "    1.42857143]\n",
            " [  2.           1.33333333 -99.           0.8          0.66666667\n",
            "    0.57142857]\n",
            " [  2.5          1.66666667   1.25         1.           0.83333333\n",
            "    0.71428571]\n",
            " [  3.           2.           1.5          1.2          1.\n",
            "    0.85714286]]\n"
          ]
        }
      ],
      "source": [
        "import numpy as np\n",
        "\n",
        "# row and columns\n",
        "rows, cols = 5, 6\n",
        "\n",
        "C = np.array([[(i + 1) / (j + 1) for j in range(1,7)] for i in range(1,6)])\n",
        "\n",
        "# Part C\n",
        "C_abridged = C[1:4, 2:4]\n",
        "#print(f\"second through fourth rows and third and fourth column is:\\n {C_abridged}\")\n",
        "\n",
        "# test_change = C_abridged # to see if it is change\n",
        "\n",
        "print(f\"origional C_abridged is:\\n {C_abridged}\")\n",
        "\n",
        "# part D\n",
        "# (i)\n",
        "C_abridged[0, 0] = 99\n",
        "#print(f\" after change is:\\n {C_abridged}, \\n the bool value is: \\n {test_change == C_abridged}\")\n",
        "\n",
        "# (ii)\n",
        "C_abridged[1, 0] = -99\n",
        "print(f\"after part i and ii, the C_abridged is:\\n {C_abridged}\")\n",
        "\n",
        "# (iii)\n",
        "C_new = C.copy()\n",
        "C_new[1, :] = 5 * C_new[0, :]\n",
        "print(f\"C_new is:\\n {C_new}\")"
      ]
    },
    {
      "cell_type": "markdown",
      "id": "e4f273b8-2d09-4008-9c3c-03a0e07b342b",
      "metadata": {
        "id": "e4f273b8-2d09-4008-9c3c-03a0e07b342b"
      },
      "source": [
        "Views share date with origional matrix. When modifying the view, it will changes the origional matrix. Copies is different compared with view, it do not affect the origional, it is independent."
      ]
    },
    {
      "cell_type": "markdown",
      "id": "657ad205-40e2-4160-82de-6bd259cd6ec2",
      "metadata": {
        "id": "657ad205-40e2-4160-82de-6bd259cd6ec2"
      },
      "source": [
        "___"
      ]
    },
    {
      "cell_type": "markdown",
      "id": "78971adb-d144-4970-bb16-8352e1c88292",
      "metadata": {
        "id": "78971adb-d144-4970-bb16-8352e1c88292"
      },
      "source": [
        "Matrix multiplication is implemented with `np.dot` for compatibly sized arrays."
      ]
    },
    {
      "cell_type": "code",
      "execution_count": null,
      "id": "3a1c5c6b-f6b6-4a7e-a004-7f42e9ee43ef",
      "metadata": {
        "id": "3a1c5c6b-f6b6-4a7e-a004-7f42e9ee43ef"
      },
      "outputs": [],
      "source": [
        "M=np.array([[((-2/3)**i)+(3/5)**j for j in range(5)] for i in range(2)],\"float64\")\n",
        "N=np.array([[(-3/2)**i*(4/7)**j for j in range(3)] for i in range(5)],\"float64\")\n",
        "print(M.shape,N.shape)\n",
        "MN=np.dot(M,N)\n",
        "print(MN)\n",
        "print(MN.shape)"
      ]
    },
    {
      "cell_type": "markdown",
      "id": "9d038616-bdb1-435c-a4b2-3e81f9c93775",
      "metadata": {
        "id": "9d038616-bdb1-435c-a4b2-3e81f9c93775"
      },
      "source": [
        "This works even mixing dimensions."
      ]
    },
    {
      "cell_type": "code",
      "execution_count": null,
      "id": "22e1c5f0-4e00-4012-b5af-d8ba048dced9",
      "metadata": {
        "id": "22e1c5f0-4e00-4012-b5af-d8ba048dced9"
      },
      "outputs": [],
      "source": [
        "print(A.shape,v.shape)"
      ]
    },
    {
      "cell_type": "code",
      "execution_count": null,
      "id": "6707b38f-58de-4a11-b94d-2605503385a2",
      "metadata": {
        "id": "6707b38f-58de-4a11-b94d-2605503385a2"
      },
      "outputs": [],
      "source": [
        "Av=np.dot(A,v)\n",
        "Av.shape,Av"
      ]
    },
    {
      "cell_type": "markdown",
      "id": "75d7167c-1dad-4efc-a998-a91d3dd245d8",
      "metadata": {
        "id": "75d7167c-1dad-4efc-a998-a91d3dd245d8"
      },
      "source": [
        "#### Exercise 4: Please just trust me on this, you'll be glad you did this one\n",
        "Use optional arguments to write a function which takes one or more matrices of compatible definitions $A_1,A_2,\\dots,A_n$ and returns the matrix product $A_1A_2\\dots A_n$.\n",
        "\n",
        "<details>\n",
        "<summary>\n",
        "<b>\n",
        "    Hint:\n",
        "</b>\n",
        "    (Click here to open)\n",
        "</summary>\n",
        "    \n",
        "-    Note that unlike our sums and products of before, this suggests taking one or more input matrices rather than zero or before. Why might that be? In any case, you can have both required and optional arguments in the form (say) `def mult(A,*Bs):`\n",
        "    \n",
        "</details>"
      ]
    },
    {
      "cell_type": "code",
      "execution_count": 15,
      "id": "ffd2a66e-f589-4bba-b8e4-cc4cab3b3fab",
      "metadata": {
        "id": "ffd2a66e-f589-4bba-b8e4-cc4cab3b3fab",
        "outputId": "06a549e0-9de2-4626-e4d6-59e9c566aa12",
        "colab": {
          "base_uri": "https://localhost:8080/"
        }
      },
      "outputs": [
        {
          "output_type": "stream",
          "name": "stdout",
          "text": [
            "The value of mult(v_1,A_1,A_2,A_3,v_2) is:\n",
            " 425.32607886904754\n"
          ]
        }
      ],
      "source": [
        "import numpy as np\n",
        "\n",
        "def mult(A, *Bs):\n",
        "    result = A\n",
        "    for B in Bs:\n",
        "        result = np.dot(result, B)\n",
        "    return result\n",
        "v_1=np.array([2**i for i in range(4)],\"float64\")\n",
        "A_1=np.array([[i+j for j in range(5)]  for i in range(4)],\"float64\")\n",
        "A_2=np.array([[1/(i+j+1) for j in range(5)] for i in range(5)],\"float64\")\n",
        "A_3=np.array([[i-j for j in range(6)] for i in range(5)],\"float64\")\n",
        "v_2=np.array([1/2**i for i in range(6)],\"float64\")\n",
        "ans = mult(v_1,A_1,A_2,A_3,v_2)\n",
        "print(f\"The value of mult(v_1,A_1,A_2,A_3,v_2) is:\\n {ans}\")\n"
      ]
    },
    {
      "cell_type": "code",
      "execution_count": 14,
      "id": "4e460190-fe84-4e01-8a1e-8bd89361418e",
      "metadata": {
        "id": "4e460190-fe84-4e01-8a1e-8bd89361418e",
        "outputId": "2f3b6960-f4f4-47f7-9c36-ac84a1355858",
        "colab": {
          "base_uri": "https://localhost:8080/"
        }
      },
      "outputs": [
        {
          "output_type": "stream",
          "name": "stdout",
          "text": [
            "The value of mult(v_1,A_1,A_2,A_3,v_2) is:\n",
            " 425.32607886904754\n"
          ]
        }
      ],
      "source": [
        "import numpy as np\n",
        "\n",
        "def mult(A, *Bs):\n",
        "    result = A\n",
        "    for B in Bs:\n",
        "        result = np.dot(result, B)\n",
        "    return result\n",
        "v_1=np.array([2**i for i in range(4)],\"float64\")\n",
        "A_1=np.array([[i+j for j in range(5)]  for i in range(4)],\"float64\")\n",
        "A_2=np.array([[1/(i+j+1) for j in range(5)] for i in range(5)],\"float64\")\n",
        "A_3=np.array([[i-j for j in range(6)] for i in range(5)],\"float64\")\n",
        "v_2=np.array([1/2**i for i in range(6)],\"float64\")\n",
        "ans = mult(v_1,A_1,A_2,A_3,v_2)\n",
        "print(f\"The value of mult(v_1,A_1,A_2,A_3,v_2) is:\\n {ans}\")\n"
      ]
    }
  ],
  "metadata": {
    "kernelspec": {
      "display_name": "Python 3 (ipykernel)",
      "language": "python",
      "name": "python3"
    },
    "language_info": {
      "codemirror_mode": {
        "name": "ipython",
        "version": 3
      },
      "file_extension": ".py",
      "mimetype": "text/x-python",
      "name": "python",
      "nbconvert_exporter": "python",
      "pygments_lexer": "ipython3",
      "version": "3.10.12"
    },
    "colab": {
      "provenance": [],
      "include_colab_link": true
    }
  },
  "nbformat": 4,
  "nbformat_minor": 5
}